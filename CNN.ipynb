{
  "nbformat": 4,
  "nbformat_minor": 0,
  "metadata": {
    "colab": {
      "name": "CNN.ipynb",
      "provenance": [],
      "collapsed_sections": [
        "F__rXA5kSB8S",
        "Khrmeab7RrSB"
      ],
      "authorship_tag": "ABX9TyPfKX7KSFHTr10lKf4mK9li",
      "include_colab_link": true
    },
    "kernelspec": {
      "display_name": "Python 3",
      "name": "python3"
    },
    "language_info": {
      "name": "python"
    }
  },
  "cells": [
    {
      "cell_type": "markdown",
      "metadata": {
        "id": "view-in-github",
        "colab_type": "text"
      },
      "source": [
        "<a href=\"https://colab.research.google.com/github/sugihara-16/CNN_from_scratch/blob/main/CNN.ipynb\" target=\"_parent\"><img src=\"https://colab.research.google.com/assets/colab-badge.svg\" alt=\"Open In Colab\"/></a>"
      ]
    },
    {
      "cell_type": "markdown",
      "metadata": {
        "id": "F__rXA5kSB8S"
      },
      "source": [
        "# 準備"
      ]
    },
    {
      "cell_type": "code",
      "metadata": {
        "id": "c8LcV9WSSH41"
      },
      "source": [
        "!pip install https://github.com/ipython-contrib/jupyter_contrib_nbextensions/tarball/master\n",
        "!jupyter contrib nbextension install --user\n",
        "!jupyter nbextension enable hinterland/hinterland"
      ],
      "execution_count": null,
      "outputs": []
    },
    {
      "cell_type": "code",
      "source": [
        "from google.colab import drive\n",
        "drive.mount('/content/gdrive')"
      ],
      "metadata": {
        "id": "9vaMHvaVg7S8",
        "colab": {
          "base_uri": "https://localhost:8080/"
        },
        "outputId": "8cd84089-335c-4c4f-beae-b2f0ae11a3e8"
      },
      "execution_count": null,
      "outputs": [
        {
          "output_type": "stream",
          "name": "stdout",
          "text": [
            "Drive already mounted at /content/gdrive; to attempt to forcibly remount, call drive.mount(\"/content/gdrive\", force_remount=True).\n",
            "/content/gdrive/MyDrive/Robot Intelligence\n"
          ]
        }
      ]
    },
    {
      "cell_type": "markdown",
      "metadata": {
        "id": "Khrmeab7RrSB"
      },
      "source": [
        "# MNISTの読み込み読み込み(tensorflow)"
      ]
    },
    {
      "cell_type": "code",
      "metadata": {
        "id": "1Az_i9g7R5yn"
      },
      "source": [
        "from tensorflow.keras.datasets import mnist \n",
        "(train_images, train_labels), (test_images, test_labels) = mnist.load_data(path='mnist.npz')"
      ],
      "execution_count": 27,
      "outputs": []
    },
    {
      "cell_type": "code",
      "source": [
        "!ps aux\n",
        "!kill -9 -1 <pid>"
      ],
      "metadata": {
        "colab": {
          "base_uri": "https://localhost:8080/"
        },
        "id": "dpl5soikmnDf",
        "outputId": "2e5d0914-6b00-4e1b-818d-9c4f304820f0"
      },
      "execution_count": 29,
      "outputs": [
        {
          "output_type": "stream",
          "name": "stdout",
          "text": [
            "USER         PID %CPU %MEM    VSZ   RSS TTY      STAT START   TIME COMMAND\n",
            "root           1  0.0  0.0    992     4 ?        Ss   02:11   0:00 /sbin/docker-\n",
            "root           7  0.1  0.4 349800 60220 ?        Sl   02:11   0:15 /tools/node/b\n",
            "root          17  0.0  0.0  35888  4768 ?        Ss   02:11   0:01 tail -n +0 -F\n",
            "root          30  0.0  0.0      0     0 ?        Z    02:11   0:06 [python3] <de\n",
            "root          31  0.0  0.3 160352 41864 ?        S    02:11   0:00 python3 /usr/\n",
            "root          44  0.2  0.4 193896 60588 ?        Sl   02:11   0:22 /usr/bin/pyth\n",
            "root          45  0.1  0.0 708456 11048 ?        Sl   02:11   0:08 /usr/local/bi\n",
            "root          60 35.0  5.2 3021396 700320 ?      Ssl  02:17  45:48 /usr/bin/pyth\n",
            "root          80  0.2  0.1 128664 16464 ?        Sl   02:17   0:18 /usr/bin/pyth\n",
            "root         370  0.0  0.0  59040  6396 ?        R    04:27   0:00 ps aux\n",
            "/bin/bash: -c: line 0: syntax error near unexpected token `newline'\n",
            "/bin/bash: -c: line 0: `kill -9 -1 <pid>'\n"
          ]
        }
      ]
    },
    {
      "cell_type": "markdown",
      "metadata": {
        "id": "AqrQy4yiU0W8"
      },
      "source": [
        "# CNNレイヤー"
      ]
    },
    {
      "cell_type": "code",
      "metadata": {
        "id": "IQfB3L5qVFvc"
      },
      "source": [
        "\n",
        "from numpy.testing._private.utils import break_cycles\n",
        "import random\n",
        "import numpy as np\n",
        "\n",
        "def MakeNet(input_size, filter_num, filter_size, affine_size,output_size):\n",
        "  # heの初期値\n",
        "  f = np.random.randn(filter_size**2, filter_num)/np.sqrt(filter_size**2) * np.sqrt(2)\n",
        "  bf = np.zeros((1,10))\n",
        "  w_a1 = np.random.randn(input_size, affine_size)/np.sqrt(input_size) * np.sqrt(2)\n",
        "  b1 = 0\n",
        "  w_a2 = np.random.randn(affine_size, output_size)/np.sqrt(affine_size) * np.sqrt(2)\n",
        "  b2 = 0\n",
        "  w_o = np.random.randn(output_size, output_size) /np.sqrt(output_size) * np.sqrt(2)\n",
        "  return f, bf, w_a1, b1, w_a2, b2, w_o\n",
        "\n",
        "def paddig(item):\n",
        "  item_pad = np.pad(item, ((2, 2),))\n",
        "  return item_pad\n",
        "\n",
        "def InputNode(item_pad_std):\n",
        "  input = []\n",
        "  for i in range(28):\n",
        "    for j in range(28):\n",
        "      target = item_pad_std[i:i+5,j:j+5]\n",
        "      target_reshape = np.array(target).reshape(1,25)[0]\n",
        "      input.append(target_reshape)\n",
        "  input = np.array(input).reshape(28*28,-1)\n",
        "  return input\n",
        "\n",
        "def zscore(x):\n",
        "  xmean = np.mean(x)\n",
        "  xstd  = np.std(x)\n",
        "  zscore = (x-xmean)/xstd\n",
        "  input = np.array(zscore).reshape(32,-1)\n",
        "  return input\n",
        "\n",
        "def Convolution(input,f,bf):\n",
        "  bf_tile = np.tile(bf, (784,1))\n",
        "  u_c = np.ravel((np.dot(input,f) + bf_tile).T)\n",
        "  X_conv = np.maximum(u_c, 0) #　出力を一元化\n",
        "  return X_conv, u_c\n",
        "\n",
        "def Pooling(X_conv):\n",
        "  X_p = []\n",
        "  for i in range(int(7840/16)):\n",
        "    target = X_conv[i*16:(i+1)*16]\n",
        "    max_target = np.max(target) \n",
        "    arg_max = np.argmax(target)\n",
        "    target[arg_max] += 1.0\n",
        "    target_pooling = np.heaviside(target-max_target - 1.0, max_target)\n",
        "    X_p.append(target_pooling)\n",
        "  X_p = np.ravel(np.array(X_p))\n",
        "  return X_p\n",
        "\n",
        "def Affine(input,w_a,b):\n",
        "  u = np.dot(input, w_a) + b\n",
        "  u = np.array(u, dtype=float)\n",
        "  #ReLu関数で活性化\n",
        "  X = np.ravel(np.maximum(u, 0))\n",
        "  return X, u\n",
        "\n",
        "def SoftMax(x):\n",
        "  x = np.array(x, dtype= float)\n",
        "  x_max = max(x)\n",
        "  exp_x = np.exp(x-x_max)\n",
        "  sum_exp_x = np.sum(exp_x)\n",
        "\n",
        "  y = exp_x/sum_exp_x #出力(入力画像がが0~9である確率)\n",
        "  return np.array([y])\n",
        "\n",
        "def OutPut(X3,w_o):\n",
        "  x = np.dot(X3,w_o)\n",
        "  p = SoftMax(x)\n",
        "  return p\n",
        "\n",
        "def Answer(label):\n",
        "  sample = [0,1,2,3,4,5,6,7,8,9]\n",
        "  t = np.zeros(10)\n",
        "  for i , item in enumerate(sample):\n",
        "    if int(item) == int(label):\n",
        "      t[i] = 1\n",
        "      break\n",
        "  return t\n",
        "\n",
        "def CalcDelta(p,t,u_c, u_a1, u_a2, X_p, w_o, w_a2, w_a1):\n",
        "  if np.argmax(p) == np.argmax(t):\n",
        "    judge = True\n",
        "  else:\n",
        "    judge = False\n",
        "  d_o = p - t\n",
        "  d_a2 = np.dot(d_o, w_o.T)*np.heaviside(u_a2,0) #ReLu関数の微分であるヘヴィサイド関数をかける\n",
        "  d_a1 = np.dot(d_a2, w_a2.T)*np.heaviside(u_a1,0)\n",
        "  d_p = np.dot(d_a1, w_a1.T)\n",
        "  d_c = (d_p*np.heaviside(u_c, 0)).reshape(10,-1)\n",
        "  return d_o, d_a1, d_a2, d_p, d_c, judge\n",
        "\n",
        "def Update(input, X_p, X_a1, X_a2, f, bf, w_a1, b1, w_a2, b2, w_o, d_o, d_a1, d_a2, d_c, e):\n",
        "  f = f - e*(np.dot(d_c, input)).T\n",
        "  #f = f\n",
        "  for i in range(len(bf)):\n",
        "    target = d_c[i]\n",
        "    target_sum = np.sum(target)\n",
        "    bf[i] = bf[i] - e*target_sum\n",
        "  #bf = bf\n",
        "  w_a1 = w_a1 - e*np.dot(np.array([X_p]).T,d_a1)\n",
        "  b1 = b1 - e*d_a1\n",
        "  w_a2 = w_a2 - e*np.dot(np.array([X_a1]).T,d_a2)\n",
        "  b2 = b2 - e*d_a2\n",
        "  w_o = w_o - e*np.dot(np.array([X_a2]).T, d_o)\n",
        "  return f, bf, w_a1, b1, w_a2, b2, w_o"
      ],
      "execution_count": 5,
      "outputs": []
    },
    {
      "cell_type": "markdown",
      "source": [
        "# 実行"
      ],
      "metadata": {
        "id": "NmXYs2lj4O0k"
      }
    },
    {
      "cell_type": "markdown",
      "source": [
        "###ネットワークを学習"
      ],
      "metadata": {
        "id": "d0tTzKr643bM"
      }
    },
    {
      "cell_type": "code",
      "source": [
        "import pandas as pd\n",
        "import numpy as np\n",
        "import matplotlib.pyplot as plt\n",
        "\n",
        "# 学習後の各パラメータ保存用の変数\n",
        "f_learned, bf_learned, w_a1_learned, b1_learned, w_a2_learned, b2_learned, w_o_learned = MakeNet(28*28*10, #プーリング層のユニット数\n",
        "                      10,#フィルター数\n",
        "                      5, #フィルターサイズ\n",
        "                      350, #全結合のユニット数\n",
        "                      10) #出力層のユニット数\n",
        "#初期フィルター\n",
        "f_first = np.ones_like((25,10))\n",
        "\n",
        "def AddNoize(source, rate):\n",
        "  for i , row in enumerate(source):\n",
        "    for j, item in enumerate(row):\n",
        "      p = np.random.randint(100)\n",
        "      if p < rate:\n",
        "        source[i][j] = np.random.randint(256)\n",
        "  return source\n",
        "\n",
        "def main():\n",
        "  global f_first, f_learned, bf_learned, w_a1_learned, b1_learned, w_a2_learned, b2_learned, w_o_learned \n",
        "  \n",
        "  \"\"\"\"\"\"\"\"\"\"\"\"\"\"\"\"\"\"\"\"\"\"\"\"\"\"\"\n",
        "  ---ニューラルネットを定義---\n",
        "  \"\"\"\"\"\"\"\"\"\"\"\"\"\"\"\"\"\"\"\"\"\"\"\"\"\"\"\n",
        "\n",
        "  f, bf, w_a1, b1, w_a2, b2, w_o = MakeNet(28*28*10, #プーリング層のユニット数\n",
        "                        10,#フィルター数\n",
        "                        5, #フィルターサイズ\n",
        "                        350, #全結合のユニット数\n",
        "                        10) #出力層のユニット数\n",
        "  f_first = f       \n",
        "  \"\"\"\"\"\"\"\"\"\"\"\"\"\"\"\"\"\"\"\"\"\"\"\"\"\"\"\n",
        "  ---ニューラルネットの学習---\n",
        "  \"\"\"\"\"\"\"\"\"\"\"\"\"\"\"\"\"\"\"\"\"\"\"\"\"\"\"\n",
        "  count = 0\n",
        "  for i , item in enumerate(train_images):\n",
        "    item = train_images[i]\n",
        "    item_noised = AddNoize(item, 0) #ノイズ追加\n",
        "    label = train_labels[i]\n",
        "    e = 0.001\n",
        "    item_pad = paddig(item_noised) #padding\n",
        "    item_pad_std = zscore(np.array(item_pad).reshape(1,32*32)[0]) #標準化\n",
        "    input = InputNode(item_pad_std) #入力層用にデータ成形\n",
        "    X_conv,u_c = Convolution(input,f,bf) #畳み込み層の出力を計算\n",
        "    X_p = Pooling(X_conv) #プーリング層の出力を計算\n",
        "\n",
        "    X_a1,u_a1 = Affine(X_p, w_a1, b1) #全結合層の出力を計算\n",
        "    X_a2,u_a2 = Affine(X_a1, w_a2, b2) #全結合層の出力を計算\n",
        "    p = OutPut(X_a2, w_o) #事後確率を計算\n",
        "    t = Answer(label)\n",
        "    d_o, d_a1, d_a2, d_p, d_c, judge = CalcDelta(p,t,u_c, u_a1, u_a2, X_p, w_o, w_a2, w_a1)\n",
        "    f, bf, w_a1, b1, w_a2, b2, w_o = Update(input, X_p, X_a1, X_a2, f, bf, w_a1, b1, w_a2, b2, w_o, d_o, d_a1, d_a2, d_c, e)\n",
        "    print(i)\n",
        "\n",
        "  #学習結果を記録\n",
        "  f_learned, bf_learned, w_a1_learned, b1_learned, w_a2_learned, b2_learned, w_o_learned = f, bf, w_a1, b1, w_a2, b2, w_o\n",
        "main()"
      ],
      "metadata": {
        "id": "u_cLUCJiddCn"
      },
      "execution_count": null,
      "outputs": []
    },
    {
      "cell_type": "markdown",
      "source": [
        "### ネットワークをテスト"
      ],
      "metadata": {
        "id": "hhING9qJ5LDx"
      }
    },
    {
      "cell_type": "code",
      "source": [
        "import pandas as pd\n",
        "import numpy as np\n",
        "import matplotlib.pyplot as plt\n",
        "from tensorflow.keras.datasets import mnist \n",
        "(train_images, train_labels), (test_images, test_labels) = mnist.load_data(path='mnist.npz')\n",
        "\n",
        "def AddNoize(source, rate):\n",
        "  for i , row in enumerate(source):\n",
        "    for j, item in enumerate(row):\n",
        "      p = np.random.randint(100)\n",
        "      if p < rate:\n",
        "        source[i][j] = np.random.randint(256)\n",
        "  return source\n",
        "\n",
        "def main():\n",
        "  f, bf, w_a1, b1, w_a2, b2, w_o = f_learned, bf_learned, w_a1_learned, b1_learned, w_a2_learned, b2_learned, w_o_learned \n",
        "  \"\"\"\"\"\"\"\"\"\"\"\"\"\"\"\"\"\"\"\"\"\"\"\"\"\"\"\n",
        "  ---ニューラルネットのテスト---\n",
        "  \"\"\"\"\"\"\"\"\"\"\"\"\"\"\"\"\"\"\"\"\"\"\"\"\"\"\"\n",
        "  accuracy_sum = 0\n",
        "  for j in range(10):\n",
        "    (train_images, train_labels), (test_images, test_labels) = mnist.load_data(path='mnist.npz')\n",
        "    count = 0\n",
        "    for i , item in enumerate(test_images[:100]):\n",
        "      item = test_images[i]\n",
        "      item_noised = AddNoize(item, 0) #ノイズを追加(第二引数にノイズ率を入力入力s)\n",
        "      label = test_labels[i]\n",
        "      e = 0.001\n",
        "      item_pad = paddig(item_noised) #padding\n",
        "      item_pad_std = zscore(np.array(item_pad).reshape(1,32*32)[0]) #標準化\n",
        "      input = InputNode(item_pad_std) #入力層用にデータ成形\n",
        "      X_conv,u_c = Convolution(input,f,bf) #畳み込み層の出力を計算\n",
        "      X_p = Pooling(X_conv) #プーリング層の出力を計算\n",
        "      X_a1,u_a1 = Affine(X_p, w_a1, b1) #全結合層の出力を計算\n",
        "      X_a2,u_a2 = Affine(X_a1, w_a2, b2) #全結合層の出力を計算\n",
        "      p = OutPut(X_a2, w_o) #事後確率を計算\n",
        "      t = Answer(label)\n",
        "      d_o, d_a1, d_a2, d_p, d_c, judge = CalcDelta(p,t,u_c, u_a1, u_a2, X_p, w_o, w_a2, w_a1)\n",
        "      if judge:\n",
        "        count += 1\n",
        "    accuracy_sum += count/100\n",
        "  print(accuracy_sum/10)\n",
        "main()"
      ],
      "metadata": {
        "id": "Xrf22kd44kIM"
      },
      "execution_count": null,
      "outputs": []
    },
    {
      "cell_type": "markdown",
      "source": [
        "### 可視化"
      ],
      "metadata": {
        "id": "0EBCnTaf5ViL"
      }
    },
    {
      "cell_type": "code",
      "source": [
        "# coding: utf-8\n",
        "import numpy as np\n",
        "import matplotlib.pyplot as plt\n",
        "\n",
        "fig = plt.figure()\n",
        "fig.subplots_adjust(left=0, right=1, bottom=0, top=1, hspace=0.05, wspace=0.05)\n",
        "\n",
        "\n",
        "for i in range(10):\n",
        "  f1 = (f_first.T[i]).reshape(5,-1)\n",
        "  ax = fig.add_subplot(10, 10, i+1, xticks=[], yticks=[])\n",
        "  ax.imshow(f1, cmap=plt.cm.gray_r, interpolation='nearest')\n",
        "\n",
        "plt.show()\n",
        "plt.savefig('filters1.png')"
      ],
      "metadata": {
        "id": "SHdopZWjsh7E"
      },
      "execution_count": null,
      "outputs": []
    },
    {
      "cell_type": "code",
      "source": [
        "# coding: utf-8\n",
        "import numpy as np\n",
        "import matplotlib.pyplot as plt\n",
        "\n",
        "fig = plt.figure()\n",
        "fig.subplots_adjust(left=0, right=1, bottom=0, top=1, hspace=0.05, wspace=0.05)\n",
        "\n",
        "for i in range(10):\n",
        "  f1 = (f_learned.T[i]).reshape(5,-1) \n",
        "  ax = fig.add_subplot(10, 10, i+1, xticks=[], yticks=[])\n",
        "  ax.imshow(f1, cmap=plt.cm.gray_r, interpolation='nearest') \n",
        "plt.show()"
      ],
      "metadata": {
        "id": "RzcmEl4dxoie"
      },
      "execution_count": null,
      "outputs": []
    }
  ]
}